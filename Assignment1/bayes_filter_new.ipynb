{
 "cells": [
  {
   "cell_type": "markdown",
   "metadata": {},
   "source": [
    "Bayes Filter Assignment 1\n",
    "\n",
    "Author: Harshal Bhat"
   ]
  },
  {
   "cell_type": "code",
   "execution_count": 1,
   "metadata": {},
   "outputs": [],
   "source": [
    "import numpy as np\n",
    "import matplotlib.pyplot as plt\n",
    "\n",
    "#defining probabilities p_z and P_x\n",
    "\n",
    "prob_z_np = np.array([[0.6, 0.2], [0.4, 0.8]])  # P(Z|X)\n",
    "prob_x_np = np.array([[[1, 0.8], [1, 0]], [[0, 0.2], [0, 1]]])  # P(X|Z,U)"
   ]
  },
  {
   "cell_type": "code",
   "execution_count": 79,
   "metadata": {},
   "outputs": [],
   "source": [
    "def predict(prob_z, prob_x, initial_belief=None):\n",
    "    pred_open = np.zeros((2, 2))\n",
    "    pred_closed = np.zeros((2, 2))\n",
    "    if initial_belief is None:\n",
    "        initial_belief = np.array([0.5, 0.5])\n",
    "\n",
    "    pred_open = prob_z+ np.dot(prob_x[0], initial_belief)\n",
    "    pred_closed = prob_z + np.dot(prob_x[1], initial_belief)\n",
    "\n",
    "    return pred_open, pred_closed\n"
   ]
  },
  {
   "cell_type": "code",
   "execution_count": 80,
   "metadata": {},
   "outputs": [],
   "source": [
    "def update(pred, sense = None):\n",
    "\n",
    "    x_open = prob_z_np[sense][0] * pred[0]\n",
    "    x_closed = prob_z_np[sense][1] * pred[1]\n",
    "\n",
    "    normalize = 1/(x_open + x_closed)\n",
    "\n",
    "    return [x_open * normalize, x_closed * normalize]\n",
    "\n"
   ]
  },
  {
   "cell_type": "code",
   "execution_count": 81,
   "metadata": {},
   "outputs": [
    {
     "name": "stdout",
     "output_type": "stream",
     "text": [
      "It took 11 Iterations taken to achieve 99.99% certainity\n"
     ]
    },
    {
     "data": {
      "image/png": "[encoded data removed]",
      "text/plain": [
       "<Figure size 640x480 with 1 Axes>"
      ]
     },
     "metadata": {},
     "output_type": "display_data"
    }
   ],
   "source": [
    "initial_beleif = np.array([0.5, 0.5])\n",
    "belief_pattern = []\n",
    "\n",
    "while initial_beleif[0] < 0.99999:\n",
    "    pred = predict(prob_z_np, prob_x_np, initial_beleif)\n",
    "    initial_beleif = update(initial_beleif, 0)\n",
    "    belief_pattern.append(initial_beleif[0])\n",
    "\n",
    "print(\"It took %d Iterations taken to achieve 99.99%% certainity\"%len(belief_pattern))\n",
    "x_values = list(range(1, len(belief_pattern) + 1))\n",
    "plt.plot(x_values, belief_pattern)\n",
    "plt.xlabel('Iteration')\n",
    "plt.ylabel('Belief door open')\n",
    "plt.title('U=do_nothing and Z=is_open')\n",
    "plt.show()"
   ]
  },
  {
   "cell_type": "code",
   "execution_count": 107,
   "metadata": {},
   "outputs": [
    {
     "name": "stdout",
     "output_type": "stream",
     "text": [
      "> \u001b[0;32m/tmp/ipykernel_17186/4164551508.py\u001b[0m(9)\u001b[0;36m<module>\u001b[0;34m()\u001b[0m\n",
      "\u001b[0;32m      8 \u001b[0;31m    \u001b[0;32mimport\u001b[0m \u001b[0mipdb\u001b[0m\u001b[0;34m;\u001b[0m \u001b[0mipdb\u001b[0m\u001b[0;34m.\u001b[0m\u001b[0mset_trace\u001b[0m\u001b[0;34m(\u001b[0m\u001b[0;34m)\u001b[0m\u001b[0;34m\u001b[0m\u001b[0;34m\u001b[0m\u001b[0m\n",
      "\u001b[0m\u001b[0;32m----> 9 \u001b[0;31m    \u001b[0minitial_beleif\u001b[0m \u001b[0;34m=\u001b[0m \u001b[0mupdate\u001b[0m\u001b[0;34m(\u001b[0m\u001b[0minitial_beleif\u001b[0m\u001b[0;34m,\u001b[0m \u001b[0;36m1\u001b[0m\u001b[0;34m)\u001b[0m\u001b[0;34m\u001b[0m\u001b[0;34m\u001b[0m\u001b[0m\n",
      "\u001b[0m\u001b[0;32m     10 \u001b[0;31m    \u001b[0mbelief_pattern\u001b[0m\u001b[0;34m.\u001b[0m\u001b[0mappend\u001b[0m\u001b[0;34m(\u001b[0m\u001b[0minitial_beleif\u001b[0m\u001b[0;34m[\u001b[0m\u001b[0;36m1\u001b[0m\u001b[0;34m]\u001b[0m\u001b[0;34m)\u001b[0m\u001b[0;34m\u001b[0m\u001b[0;34m\u001b[0m\u001b[0m\n",
      "\u001b[0m\n",
      "(array([0.5, 0.9]), array([0.9, 1.3]))\n",
      "array([[0.5       , 0.09259259],\n",
      "       [0.03703704, 0.37037037]])\n"
     ]
    }
   ],
   "source": [
    "#Task 2\n",
    "\n",
    "initial_beleif = np.array([0.5, 0.5])\n",
    "belief_pattern = []\n",
    "\n",
    "while initial_beleif[1] < 0.99:\n",
    "    pred = predict(prob_z_np[1], prob_x_np[1], initial_beleif)\n",
    "    initial_beleif = update(initial_beleif, 1)\n",
    "    belief_pattern.append(initial_beleif[1])\n",
    "\n",
    "print(\"It took %d Iterations taken to achieve 99.99%% certainity\"%len(belief_pattern))\n",
    "x_values = list(range(1, len(belief_pattern) + 1))\n",
    "plt.plot(x_values, belief_pattern)\n",
    "plt.xlabel('Iteration')\n",
    "plt.ylabel('Belief door open')\n",
    "plt.title('U=push and Z=is_open')\n",
    "plt.show()\n"
   ]
  },
  {
   "cell_type": "code",
   "execution_count": null,
   "metadata": {},
   "outputs": [
    {
     "ename": "KeyboardInterrupt",
     "evalue": "",
     "output_type": "error",
     "traceback": [
      "\u001b[0;31m---------------------------------------------------------------------------\u001b[0m",
      "\u001b[0;31mKeyboardInterrupt\u001b[0m                         Traceback (most recent call last)",
      "Cell \u001b[0;32mIn[89], line 7\u001b[0m\n\u001b[1;32m      4\u001b[0m belief_pattern \u001b[38;5;241m=\u001b[39m []\n\u001b[1;32m      6\u001b[0m \u001b[38;5;28;01mwhile\u001b[39;00m initial_beleif[\u001b[38;5;241m0\u001b[39m] \u001b[38;5;241m<\u001b[39m \u001b[38;5;241m0.99999\u001b[39m:\n\u001b[0;32m----> 7\u001b[0m     pred \u001b[38;5;241m=\u001b[39m predict(prob_z_np, prob_x_np, initial_beleif)\n\u001b[1;32m      8\u001b[0m     initial_beleif \u001b[38;5;241m=\u001b[39m update(initial_beleif, \u001b[38;5;241m1\u001b[39m)\n\u001b[1;32m      9\u001b[0m     belief_pattern\u001b[38;5;241m.\u001b[39mappend(initial_beleif[\u001b[38;5;241m0\u001b[39m])\n",
      "Cell \u001b[0;32mIn[79], line 2\u001b[0m, in \u001b[0;36mpredict\u001b[0;34m(prob_z, prob_x, initial_belief)\u001b[0m\n\u001b[1;32m      1\u001b[0m \u001b[38;5;28;01mdef\u001b[39;00m \u001b[38;5;21mpredict\u001b[39m(prob_z, prob_x, initial_belief\u001b[38;5;241m=\u001b[39m\u001b[38;5;28;01mNone\u001b[39;00m):\n\u001b[0;32m----> 2\u001b[0m     pred_open \u001b[38;5;241m=\u001b[39m np\u001b[38;5;241m.\u001b[39mzeros((\u001b[38;5;241m2\u001b[39m, \u001b[38;5;241m2\u001b[39m))\n\u001b[1;32m      3\u001b[0m     pred_closed \u001b[38;5;241m=\u001b[39m np\u001b[38;5;241m.\u001b[39mzeros((\u001b[38;5;241m2\u001b[39m, \u001b[38;5;241m2\u001b[39m))\n\u001b[1;32m      4\u001b[0m     \u001b[38;5;28;01mif\u001b[39;00m initial_belief \u001b[38;5;129;01mis\u001b[39;00m \u001b[38;5;28;01mNone\u001b[39;00m:\n",
      "\u001b[0;31mKeyboardInterrupt\u001b[0m: "
     ]
    }
   ],
   "source": [
    "#Task 3\n",
    "\n",
    "initial_beleif = np.array([0.5, 0.5])\n",
    "belief_pattern = []\n",
    "\n",
    "while initial_beleif[0] < 0.99999:\n",
    "    pred = predict(prob_z_np, prob_x_np, initial_beleif)\n",
    "    initial_beleif = update(initial_beleif, 1)\n",
    "    belief_pattern.append(initial_beleif[0])\n",
    "    \n",
    "\n",
    "print(\"It took %d Iterations taken to achieve 99.99%% certainity\"%len(belief_pattern))\n",
    "x_values = list(range(1, len(belief_pattern) + 1))\n",
    "plt.plot(x_values, belief_pattern)\n",
    "plt.xlabel('Iteration')\n",
    "plt.ylabel('Belief door open')\n",
    "plt.title('U=Push and Z=is_open')\n",
    "plt.show()"
   ]
  },
  {
   "cell_type": "code",
   "execution_count": null,
   "metadata": {},
   "outputs": [],
   "source": []
  }
 ],
 "metadata": {
  "kernelspec": {
   "display_name": "dl",
   "language": "python",
   "name": "python3"
  },
  "language_info": {
   "codemirror_mode": {
    "name": "ipython",
    "version": 3
   },
   "file_extension": ".py",
   "mimetype": "text/x-python",
   "name": "python",
   "nbconvert_exporter": "python",
   "pygments_lexer": "ipython3",
   "version": "3.11.5"
  }
 },
 "nbformat": 4,
 "nbformat_minor": 2
}
